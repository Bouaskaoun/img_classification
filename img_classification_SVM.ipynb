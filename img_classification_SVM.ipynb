{
  "nbformat": 4,
  "nbformat_minor": 0,
  "metadata": {
    "colab": {
      "name": "img_classification_SVM.ipynb",
      "provenance": [],
      "authorship_tag": "ABX9TyNE+sCk0cxs6uFElV0pc4MI",
      "include_colab_link": true
    },
    "kernelspec": {
      "name": "python3",
      "display_name": "Python 3"
    },
    "language_info": {
      "name": "python"
    }
  },
  "cells": [
    {
      "cell_type": "markdown",
      "metadata": {
        "id": "view-in-github",
        "colab_type": "text"
      },
      "source": [
        "<a href=\"https://colab.research.google.com/github/Bouaskaoun/img_classification/blob/main/img_classification_SVM.ipynb\" target=\"_parent\"><img src=\"https://colab.research.google.com/assets/colab-badge.svg\" alt=\"Open In Colab\"/></a>"
      ]
    },
    {
      "cell_type": "code",
      "execution_count": null,
      "metadata": {
        "id": "tU7ijLWqmOiL"
      },
      "outputs": [],
      "source": [
        "from zipfile import ZipFile\n",
        "file_name = '/content/images_tifinagh.zip'\n",
        "\n",
        "with ZipFile(file_name, 'r') as zip:\n",
        "  zip.extractall()\n",
        "  print('Done')"
      ]
    },
    {
      "cell_type": "code",
      "source": [
        "import os\n",
        "import matplotlib.pyplot as plt\n",
        "import numpy as np\n",
        "import pandas as pd\n",
        "import skimage.io as io\n",
        "from skimage import color\n",
        "from skimage.transform import resize\n",
        "import shutil"
      ],
      "metadata": {
        "id": "wzxtKMbwmyMZ"
      },
      "execution_count": 27,
      "outputs": []
    },
    {
      "cell_type": "code",
      "source": [
        "output_num = [];\n",
        "images = [];\n",
        "flaten_images = [];\n",
        "alphabet = [];\n",
        "data_path = '/content/images_tifinagh/';\n",
        "category_path = '/content/category/'\n",
        "\n",
        "for files in os.listdir(data_path + '/00'):\n",
        "  alpha = files[:-4]\n",
        "  alphabet.append(alpha.lower())\n",
        "  alphabet.sort()\n",
        "\n",
        "sub_folders = os.listdir(data_path)\n",
        "sub_folders.sort()"
      ],
      "metadata": {
        "id": "YYDRb5CZm2xe"
      },
      "execution_count": 81,
      "outputs": []
    },
    {
      "cell_type": "code",
      "source": [
        "alphabet = os.listdir(category_path)\n",
        "alphabet.sort()"
      ],
      "metadata": {
        "id": "lKzGDChvwiQz"
      },
      "execution_count": 82,
      "outputs": []
    },
    {
      "cell_type": "code",
      "source": [
        "for alpha in alphabet:\n",
        "    path = os.path.join(category_path, alpha)\n",
        "    os.mkdir(path)"
      ],
      "metadata": {
        "id": "mIO1DuGTnPEG"
      },
      "execution_count": 29,
      "outputs": []
    },
    {
      "cell_type": "code",
      "source": [
        "for folder in sub_folders:\n",
        "  folder = os.path.join(data_path,folder)\n",
        "  for img in os.listdir(folder):\n",
        "    if folder[-2:] == '00':\n",
        "      index = -4\n",
        "    elif folder[-2:] in sub_folders[10:41]:\n",
        "      index = -6\n",
        "    elif folder[-2:] in sub_folders[1:10]:\n",
        "      index = -5\n",
        "    extension = img[:index].lower()\n",
        "    original = folder+'/'+img\n",
        "    target = category_path+extension+'/'+img\n",
        "    shutil.move(original, target)"
      ],
      "metadata": {
        "id": "qh5V8X_onWpX"
      },
      "execution_count": 30,
      "outputs": []
    },
    {
      "cell_type": "code",
      "source": [
        "for cat in alphabet:\n",
        "    class_num = alphabet.index(cat)\n",
        "    path = os.path.join(category_path,cat)\n",
        "    for img in os.listdir(path):\n",
        "        img_path = os.path.join(path,img)\n",
        "        img_array = io.imread(img_path)\n",
        "        grayscale = color.rgb2gray(img_array)\n",
        "        img_shape = img_array.shape\n",
        "        #print(img_shape)\n",
        "        img_resized = resize(grayscale,(30,30,1))\n",
        "        images.append(img_resized)\n",
        "        flaten_images.append(img_resized.flatten())\n",
        "        output_num.append(class_num)"
      ],
      "metadata": {
        "id": "xriYnqKQn0G4"
      },
      "execution_count": null,
      "outputs": []
    },
    {
      "cell_type": "code",
      "source": [
        "flaten_images = np.array(flaten_images)\n",
        "output_num = np.array(output_num)\n",
        "images = np.array(images)"
      ],
      "metadata": {
        "id": "0WVZU47o46m0"
      },
      "execution_count": 50,
      "outputs": []
    },
    {
      "cell_type": "code",
      "source": [
        "output_num"
      ],
      "metadata": {
        "id": "oO2VrujBuxZu"
      },
      "execution_count": null,
      "outputs": []
    },
    {
      "cell_type": "code",
      "source": [
        "np.unique(output_num,return_counts=True)"
      ],
      "metadata": {
        "id": "SyYYbOt-ujgc"
      },
      "execution_count": null,
      "outputs": []
    },
    {
      "cell_type": "code",
      "source": [
        "from sklearn.model_selection import train_test_split\n",
        "x_train, x_test, y_train, y_test = train_test_split(flaten_images, output_num, test_size=0.3, random_state=109)"
      ],
      "metadata": {
        "id": "YS_lAiRZoBGX"
      },
      "execution_count": 53,
      "outputs": []
    },
    {
      "cell_type": "code",
      "source": [
        "from sklearn import svm\n",
        "from sklearn.model_selection import GridSearchCV\n",
        "param_grid = [\n",
        "              {'C':[1, 10, 100, 1000], 'kernel':['linear']},\n",
        "              {'C':[1, 10, 100, 1000], 'gamma':[0.001, 0.0001], 'kernel':['rbf']},\n",
        "              ]\n",
        "svc = svm.SVC(probability=True)\n",
        "clf = GridSearchCV(svc, param_grid)\n",
        "clf.fit(x_train, y_train)"
      ],
      "metadata": {
        "id": "GkEHtPxYrV3P"
      },
      "execution_count": null,
      "outputs": []
    },
    {
      "cell_type": "code",
      "source": [
        "y_pred = clf.predict(x_test)\n",
        "y_pred"
      ],
      "metadata": {
        "id": "V3bV_JFNyzbW"
      },
      "execution_count": null,
      "outputs": []
    },
    {
      "cell_type": "code",
      "source": [
        "from sklearn.metrics import accuracy_score,confusion_matrix"
      ],
      "metadata": {
        "id": "zAhERHLAzAPq"
      },
      "execution_count": 57,
      "outputs": []
    },
    {
      "cell_type": "code",
      "source": [
        "accuracy_score(y_pred,y_test)"
      ],
      "metadata": {
        "id": "1UWz1ZUfzNP7"
      },
      "execution_count": null,
      "outputs": []
    },
    {
      "cell_type": "code",
      "source": [
        "confusion_matrix(y_pred,y_test)"
      ],
      "metadata": {
        "id": "YNa66J1azc8r"
      },
      "execution_count": null,
      "outputs": []
    },
    {
      "cell_type": "code",
      "source": [
        "import pickle\n",
        "pickle.dump(clf,open('img_model.p','wb'))"
      ],
      "metadata": {
        "id": "RoWnmYPToexy"
      },
      "execution_count": 60,
      "outputs": []
    },
    {
      "cell_type": "code",
      "source": [
        "model = pickle.load(open('img_model.p','rb'))"
      ],
      "metadata": {
        "id": "_fe5PCI0o0Zm"
      },
      "execution_count": 61,
      "outputs": []
    },
    {
      "cell_type": "code",
      "source": [
        "flat_data = []\n",
        "url = '/content/category/ww/ww12.jpg'\n",
        "img = io.imread(url)\n",
        "img_array = color.rgb2gray(img)\n",
        "img_resized = resize(img_array,(30,30,1))\n",
        "flat_data.append(img_resized.flatten())\n",
        "flat_data = np.array(flat_data)\n",
        "plt.imshow(img)\n",
        "y_out = model.predict(flat_data)\n",
        "print(y_out)\n",
        "y_out = alphabet[y_out[0]]\n",
        "print(f'predicted output : {y_out}')"
      ],
      "metadata": {
        "id": "syIldu3TpBB3"
      },
      "execution_count": null,
      "outputs": []
    },
    {
      "cell_type": "code",
      "source": [
        "!rm -rf images_tifinagh"
      ],
      "metadata": {
        "id": "nXdk8D_154nv"
      },
      "execution_count": 24,
      "outputs": []
    },
    {
      "cell_type": "code",
      "source": [
        "!rm -rf category"
      ],
      "metadata": {
        "id": "7XFmBSgn6L4N"
      },
      "execution_count": 25,
      "outputs": []
    }
  ]
}